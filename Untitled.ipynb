{
 "cells": [
  {
   "cell_type": "code",
   "execution_count": null,
   "id": "8cbf9cc5-1502-4a2f-9640-e120d9ae26b1",
   "metadata": {},
   "outputs": [],
   "source": []
  },
  {
   "cell_type": "code",
   "execution_count": 1,
   "id": "d1ca9679-ea43-422b-974c-6a80cc89c3f3",
   "metadata": {},
   "outputs": [],
   "source": [
    "import ast\n",
    "\n",
    "net_features = []\n",
    "with open(\"nets.txt\", \"r\") as f:\n",
    "    for line in f:\n",
    "        net = ast.literal_eval(line.strip())  # safely parse dictionary from string\n",
    "        net_features.append(net)"
   ]
  },
  {
   "cell_type": "code",
   "execution_count": null,
   "id": "ae8c8595-b3bb-4a3c-ac2f-c4de90b9838c",
   "metadata": {},
   "outputs": [
    {
     "name": "stdout",
     "output_type": "stream",
     "text": [
      "Found existing installation: torch 2.7.0\n",
      "Uninstalling torch-2.7.0:\n",
      "  Would remove:\n",
      "    /root/miniconda3/lib/python3.12/site-packages/torch-2.7.0.dist-info/*\n",
      "    /root/miniconda3/lib/python3.12/site-packages/torch/lib/libgomp-c9fef706.so.1\n",
      "    /root/miniconda3/lib/python3.12/site-packages/torch/lib/libtorch_cuda.so\n",
      "    /root/miniconda3/lib/python3.12/site-packages/torch/lib/libtorch_cuda_linalg.so\n",
      "    /root/miniconda3/lib/python3.12/site-packages/torch/lib/libtorch_global_deps.so\n",
      "    /root/miniconda3/lib/python3.12/site-packages/torch/lib/libtorch_python.so\n",
      "    /root/miniconda3/lib/python3.12/site-packages/torch/linalg/*\n",
      "    /root/miniconda3/lib/python3.12/site-packages/torch/masked/*\n",
      "    /root/miniconda3/lib/python3.12/site-packages/torch/monitor/*\n",
      "    /root/miniconda3/lib/python3.12/site-packages/torch/mps/*\n",
      "    /root/miniconda3/lib/python3.12/site-packages/torch/mtia/*\n",
      "    /root/miniconda3/lib/python3.12/site-packages/torch/multiprocessing/*\n",
      "    /root/miniconda3/lib/python3.12/site-packages/torch/nested/*\n",
      "    /root/miniconda3/lib/python3.12/site-packages/torch/nn/*\n",
      "    /root/miniconda3/lib/python3.12/site-packages/torch/onnx/*\n",
      "    /root/miniconda3/lib/python3.12/site-packages/torch/optim/*\n",
      "    /root/miniconda3/lib/python3.12/site-packages/torch/package/*\n",
      "    /root/miniconda3/lib/python3.12/site-packages/torch/profiler/*\n",
      "    /root/miniconda3/lib/python3.12/site-packages/torch/quantization/*\n",
      "    /root/miniconda3/lib/python3.12/site-packages/torch/share/cmake/ATen/ATenConfig.cmake\n",
      "    /root/miniconda3/lib/python3.12/site-packages/torch/share/cmake/Caffe2/Caffe2Config.cmake\n",
      "    /root/miniconda3/lib/python3.12/site-packages/torch/share/cmake/Caffe2/Caffe2Targets-release.cmake\n",
      "    /root/miniconda3/lib/python3.12/site-packages/torch/share/cmake/Caffe2/Caffe2Targets.cmake\n",
      "    /root/miniconda3/lib/python3.12/site-packages/torch/share/cmake/Caffe2/FindCUDAToolkit.cmake\n",
      "    /root/miniconda3/lib/python3.12/site-packages/torch/share/cmake/Caffe2/FindCUDSS.cmake\n",
      "    /root/miniconda3/lib/python3.12/site-packages/torch/share/cmake/Caffe2/FindCUSPARSELT.cmake\n",
      "    /root/miniconda3/lib/python3.12/site-packages/torch/share/cmake/Caffe2/FindSYCLToolkit.cmake\n",
      "    /root/miniconda3/lib/python3.12/site-packages/torch/share/cmake/Caffe2/Modules_CUDA_fix/FindCUDA.cmake\n",
      "    /root/miniconda3/lib/python3.12/site-packages/torch/share/cmake/Caffe2/Modules_CUDA_fix/FindCUDNN.cmake\n",
      "    /root/miniconda3/lib/python3.12/site-packages/torch/share/cmake/Caffe2/Modules_CUDA_fix/upstream/CMakeInitializeConfigs.cmake\n",
      "    /root/miniconda3/lib/python3.12/site-packages/torch/share/cmake/Caffe2/Modules_CUDA_fix/upstream/FindCUDA.cmake\n",
      "    /root/miniconda3/lib/python3.12/site-packages/torch/share/cmake/Caffe2/Modules_CUDA_fix/upstream/FindCUDA/make2cmake.cmake\n",
      "    /root/miniconda3/lib/python3.12/site-packages/torch/share/cmake/Caffe2/Modules_CUDA_fix/upstream/FindCUDA/parse_cubin.cmake\n",
      "    /root/miniconda3/lib/python3.12/site-packages/torch/share/cmake/Caffe2/Modules_CUDA_fix/upstream/FindCUDA/run_nvcc.cmake\n",
      "    /root/miniconda3/lib/python3.12/site-packages/torch/share/cmake/Caffe2/Modules_CUDA_fix/upstream/FindCUDA/select_compute_arch.cmake\n",
      "    /root/miniconda3/lib/python3.12/site-packages/torch/share/cmake/Caffe2/Modules_CUDA_fix/upstream/FindPackageHandleStandardArgs.cmake\n",
      "    /root/miniconda3/lib/python3.12/site-packages/torch/share/cmake/Caffe2/Modules_CUDA_fix/upstream/FindPackageMessage.cmake\n",
      "    /root/miniconda3/lib/python3.12/site-packages/torch/share/cmake/Caffe2/public/LoadHIP.cmake\n",
      "    /root/miniconda3/lib/python3.12/site-packages/torch/share/cmake/Caffe2/public/cuda.cmake\n",
      "    /root/miniconda3/lib/python3.12/site-packages/torch/share/cmake/Caffe2/public/gflags.cmake\n",
      "    /root/miniconda3/lib/python3.12/site-packages/torch/share/cmake/Caffe2/public/glog.cmake\n",
      "    /root/miniconda3/lib/python3.12/site-packages/torch/share/cmake/Caffe2/public/mkl.cmake\n",
      "    /root/miniconda3/lib/python3.12/site-packages/torch/share/cmake/Caffe2/public/mkldnn.cmake\n",
      "    /root/miniconda3/lib/python3.12/site-packages/torch/share/cmake/Caffe2/public/protobuf.cmake\n",
      "    /root/miniconda3/lib/python3.12/site-packages/torch/share/cmake/Caffe2/public/utils.cmake\n",
      "    /root/miniconda3/lib/python3.12/site-packages/torch/share/cmake/Caffe2/public/xpu.cmake\n",
      "    /root/miniconda3/lib/python3.12/site-packages/torch/share/cmake/Tensorpipe/TensorpipeTargets-release.cmake\n",
      "    /root/miniconda3/lib/python3.12/site-packages/torch/share/cmake/Tensorpipe/TensorpipeTargets.cmake\n",
      "    /root/miniconda3/lib/python3.12/site-packages/torch/share/cmake/Torch/TorchConfig.cmake\n",
      "    /root/miniconda3/lib/python3.12/site-packages/torch/share/cmake/Torch/TorchConfigVersion.cmake\n",
      "    /root/miniconda3/lib/python3.12/site-packages/torch/signal/*\n",
      "    /root/miniconda3/lib/python3.12/site-packages/torch/sparse/*\n",
      "    /root/miniconda3/lib/python3.12/site-packages/torch/special/*\n",
      "    /root/miniconda3/lib/python3.12/site-packages/torch/testing/*\n",
      "    /root/miniconda3/lib/python3.12/site-packages/torch/utils/*\n",
      "    /root/miniconda3/lib/python3.12/site-packages/torch/xpu/*\n",
      "    /root/miniconda3/lib/python3.12/site-packages/torchgen/*\n",
      "Proceed (Y/n)? "
     ]
    }
   ],
   "source": [
    "pip uninstall torch"
   ]
  },
  {
   "cell_type": "code",
   "execution_count": 4,
   "id": "b1e33d8d-505f-48d4-94ae-bad6134c0d7e",
   "metadata": {},
   "outputs": [
    {
     "ename": "AttributeError",
     "evalue": "module 'torch' has no attribute '__version__'",
     "output_type": "error",
     "traceback": [
      "\u001b[31m---------------------------------------------------------------------------\u001b[39m",
      "\u001b[31mAttributeError\u001b[39m                            Traceback (most recent call last)",
      "\u001b[36mCell\u001b[39m\u001b[36m \u001b[39m\u001b[32mIn[4]\u001b[39m\u001b[32m, line 2\u001b[39m\n\u001b[32m      1\u001b[39m \u001b[38;5;28;01mimport\u001b[39;00m \u001b[34;01mtorch\u001b[39;00m\n\u001b[32m----> \u001b[39m\u001b[32m2\u001b[39m \u001b[38;5;28mprint\u001b[39m(\u001b[43mtorch\u001b[49m\u001b[43m.\u001b[49m\u001b[43m__version__\u001b[49m)\n\u001b[32m      3\u001b[39m \u001b[38;5;28mprint\u001b[39m(\u001b[38;5;28mdir\u001b[39m(torch))  \u001b[38;5;66;03m# Sho\u001b[39;00m\n",
      "\u001b[31mAttributeError\u001b[39m: module 'torch' has no attribute '__version__'"
     ]
    }
   ],
   "source": [
    "import torch\n",
    "print(torch.__version__)\n",
    "print(dir(torch))  # Sho"
   ]
  },
  {
   "cell_type": "code",
   "execution_count": 2,
   "id": "978c5ee9-272e-44b9-abaa-b3c034e96b4c",
   "metadata": {},
   "outputs": [
    {
     "ename": "AttributeError",
     "evalue": "module 'torch' has no attribute 'tensor'",
     "output_type": "error",
     "traceback": [
      "\u001b[31m---------------------------------------------------------------------------\u001b[39m",
      "\u001b[31mAttributeError\u001b[39m                            Traceback (most recent call last)",
      "\u001b[36mCell\u001b[39m\u001b[36m \u001b[39m\u001b[32mIn[2]\u001b[39m\u001b[32m, line 18\u001b[39m\n\u001b[32m     16\u001b[39m \u001b[38;5;66;03m# Node feature matrix\u001b[39;00m\n\u001b[32m     17\u001b[39m \u001b[38;5;28;01mimport\u001b[39;00m \u001b[34;01mtorch\u001b[39;00m\n\u001b[32m---> \u001b[39m\u001b[32m18\u001b[39m X = \u001b[43mtorch\u001b[49m\u001b[43m.\u001b[49m\u001b[43mtensor\u001b[49m([node_features[nid] \u001b[38;5;28;01mfor\u001b[39;00m nid \u001b[38;5;129;01min\u001b[39;00m sorted_node_ids], dtype=torch.float)\n\u001b[32m     20\u001b[39m \u001b[38;5;66;03m# Create hyperedges\u001b[39;00m\n\u001b[32m     21\u001b[39m hyperedges = []\n",
      "\u001b[31mAttributeError\u001b[39m: module 'torch' has no attribute 'tensor'"
     ]
    }
   ],
   "source": [
    "node_features = {}\n",
    "for net in net_features:\n",
    "    driver = net['driver']\n",
    "    node_features[driver['id']] = [\n",
    "        driver['x'], driver['y'], int(driver['is_fixed']), driver['area']\n",
    "    ]\n",
    "    for sink in net['sinks']:\n",
    "        node_features[sink['id']] = [\n",
    "            sink['x'], sink['y'], int(sink['is_fixed']), sink['area']\n",
    "        ]\n",
    "\n",
    "# Map node IDs to indices\n",
    "sorted_node_ids = sorted(node_features.keys())\n",
    "node_id_to_index = {nid: idx for idx, nid in enumerate(sorted_node_ids)}\n",
    "\n",
    "# Node feature matrix\n",
    "import torch\n",
    "X = torch.tensor([node_features[nid] for nid in sorted_node_ids], dtype=torch.float)\n",
    "\n",
    "# Create hyperedges\n",
    "hyperedges = []\n",
    "for net in net_features:\n",
    "    node_ids = [net['driver']['id']] + [sink['id'] for sink in net['sinks']]\n",
    "    edge = [node_id_to_index[nid] for nid in node_ids]\n",
    "    hyperedges.append(edge)"
   ]
  },
  {
   "cell_type": "code",
   "execution_count": null,
   "id": "1809272c-9359-4dd1-8561-93628642e731",
   "metadata": {},
   "outputs": [
    {
     "name": "stdout",
     "output_type": "stream",
     "text": [
      "Collecting torch\n",
      "  Using cached torch-2.7.0-cp312-cp312-manylinux_2_28_x86_64.whl.metadata (29 kB)\n",
      "Collecting filelock (from torch)\n",
      "  Using cached filelock-3.18.0-py3-none-any.whl.metadata (2.9 kB)\n",
      "Requirement already satisfied: typing-extensions>=4.10.0 in /root/miniconda3/lib/python3.12/site-packages (from torch) (4.12.2)\n",
      "Requirement already satisfied: setuptools in /root/miniconda3/lib/python3.12/site-packages (from torch) (75.8.0)\n",
      "Collecting sympy>=1.13.3 (from torch)\n",
      "  Using cached sympy-1.14.0-py3-none-any.whl.metadata (12 kB)\n",
      "Collecting networkx (from torch)\n",
      "  Using cached networkx-3.4.2-py3-none-any.whl.metadata (6.3 kB)\n",
      "Requirement already satisfied: jinja2 in /root/miniconda3/lib/python3.12/site-packages (from torch) (3.1.6)\n",
      "Collecting fsspec (from torch)\n",
      "  Using cached fsspec-2025.3.2-py3-none-any.whl.metadata (11 kB)\n",
      "Collecting nvidia-cuda-nvrtc-cu12==12.6.77 (from torch)\n",
      "  Using cached nvidia_cuda_nvrtc_cu12-12.6.77-py3-none-manylinux2014_x86_64.whl.metadata (1.5 kB)\n",
      "Collecting nvidia-cuda-runtime-cu12==12.6.77 (from torch)\n",
      "  Using cached nvidia_cuda_runtime_cu12-12.6.77-py3-none-manylinux2014_x86_64.manylinux_2_17_x86_64.whl.metadata (1.5 kB)\n",
      "Collecting nvidia-cuda-cupti-cu12==12.6.80 (from torch)\n",
      "  Using cached nvidia_cuda_cupti_cu12-12.6.80-py3-none-manylinux2014_x86_64.manylinux_2_17_x86_64.whl.metadata (1.6 kB)\n",
      "Collecting nvidia-cudnn-cu12==9.5.1.17 (from torch)\n",
      "  Using cached nvidia_cudnn_cu12-9.5.1.17-py3-none-manylinux_2_28_x86_64.whl.metadata (1.6 kB)\n",
      "Collecting nvidia-cublas-cu12==12.6.4.1 (from torch)\n",
      "  Using cached nvidia_cublas_cu12-12.6.4.1-py3-none-manylinux2014_x86_64.manylinux_2_17_x86_64.whl.metadata (1.5 kB)\n",
      "Collecting nvidia-cufft-cu12==11.3.0.4 (from torch)\n",
      "  Using cached nvidia_cufft_cu12-11.3.0.4-py3-none-manylinux2014_x86_64.manylinux_2_17_x86_64.whl.metadata (1.5 kB)\n",
      "Collecting nvidia-curand-cu12==10.3.7.77 (from torch)\n",
      "  Using cached nvidia_curand_cu12-10.3.7.77-py3-none-manylinux2014_x86_64.manylinux_2_17_x86_64.whl.metadata (1.5 kB)\n",
      "Collecting nvidia-cusolver-cu12==11.7.1.2 (from torch)\n",
      "  Using cached nvidia_cusolver_cu12-11.7.1.2-py3-none-manylinux2014_x86_64.manylinux_2_17_x86_64.whl.metadata (1.6 kB)\n",
      "Collecting nvidia-cusparse-cu12==12.5.4.2 (from torch)\n",
      "  Using cached nvidia_cusparse_cu12-12.5.4.2-py3-none-manylinux2014_x86_64.manylinux_2_17_x86_64.whl.metadata (1.6 kB)\n",
      "Collecting nvidia-cusparselt-cu12==0.6.3 (from torch)\n",
      "  Using cached nvidia_cusparselt_cu12-0.6.3-py3-none-manylinux2014_x86_64.whl.metadata (6.8 kB)\n",
      "Collecting nvidia-nccl-cu12==2.26.2 (from torch)\n",
      "  Using cached nvidia_nccl_cu12-2.26.2-py3-none-manylinux2014_x86_64.manylinux_2_17_x86_64.whl.metadata (2.0 kB)\n",
      "Collecting nvidia-nvtx-cu12==12.6.77 (from torch)\n",
      "  Using cached nvidia_nvtx_cu12-12.6.77-py3-none-manylinux2014_x86_64.manylinux_2_17_x86_64.whl.metadata (1.6 kB)\n",
      "Collecting nvidia-nvjitlink-cu12==12.6.85 (from torch)\n",
      "  Using cached nvidia_nvjitlink_cu12-12.6.85-py3-none-manylinux2010_x86_64.manylinux_2_12_x86_64.whl.metadata (1.5 kB)\n",
      "Collecting nvidia-cufile-cu12==1.11.1.6 (from torch)\n",
      "  Using cached nvidia_cufile_cu12-1.11.1.6-py3-none-manylinux2014_x86_64.manylinux_2_17_x86_64.whl.metadata (1.5 kB)\n",
      "Collecting triton==3.3.0 (from torch)\n",
      "  Using cached triton-3.3.0-cp312-cp312-manylinux_2_27_x86_64.manylinux_2_28_x86_64.whl.metadata (1.5 kB)\n",
      "Collecting mpmath<1.4,>=1.1.0 (from sympy>=1.13.3->torch)\n",
      "  Using cached mpmath-1.3.0-py3-none-any.whl.metadata (8.6 kB)\n",
      "Requirement already satisfied: MarkupSafe>=2.0 in /root/miniconda3/lib/python3.12/site-packages (from jinja2->torch) (3.0.2)\n",
      "Downloading torch-2.7.0-cp312-cp312-manylinux_2_28_x86_64.whl (865.0 MB)\n",
      "\u001b[2K   \u001b[38;2;249;38;114m━━━━━━━━━━━━━\u001b[0m\u001b[38;5;237m╺\u001b[0m\u001b[38;5;237m━━━━━━━━━━━━━━━━━━━━━━━━━━\u001b[0m \u001b[32m286.3/865.0 MB\u001b[0m \u001b[31m5.9 MB/s\u001b[0m eta \u001b[36m0:01:38\u001b[0m:40\u001b[0m"
     ]
    }
   ],
   "source": [
    "pip install torch"
   ]
  },
  {
   "cell_type": "code",
   "execution_count": null,
   "id": "6e10a620-7b9f-4a8b-9b87-4cd89cb006dc",
   "metadata": {},
   "outputs": [],
   "source": [
    "import torch\n",
    "import torch.nn as nn\n",
    "import torch.nn.functional as F\n",
    "\n",
    "class HyperGNN(nn.Module):\n",
    "    def __init__(self, in_dim, hidden_dim):\n",
    "        super(HyperGNN, self).__init__()\n",
    "        self.fc1 = nn.Linear(in_dim, hidden_dim)\n",
    "        self.fc2 = nn.Linear(hidden_dim, 2)  # Output: (x, y) positions\n",
    "\n",
    "    def forward(self, x):\n",
    "        x = F.relu(self.fc1(x))\n",
    "        pos = self.fc2(x)\n",
    "        return pos  # Shape: [num_nodes, 2]"
   ]
  },
  {
   "cell_type": "code",
   "execution_count": null,
   "id": "9a68b3d4-1250-48ee-ac13-10be92f8ce12",
   "metadata": {},
   "outputs": [],
   "source": [
    "def compute_hpwl(positions, hyperedges):\n",
    "    hpwl = 0.0\n",
    "    for edge in hyperedges:\n",
    "        x_coords = positions[edge, 0]\n",
    "        y_coords = positions[edge, 1]\n",
    "        hpwl += (x_coords.max() - x_coords.min()) + (y_coords.max() - y_coords.min())\n",
    "    return hpwl\n",
    "\n",
    "def compute_density_loss(positions, areas, grid_size):\n",
    "    total_area = areas.sum()\n",
    "    return total_area / grid_size\n",
    "\n",
    "# Example training loop\n",
    "def train(model, X, hyperedges, areas, grid_size, num_epochs=200, lr=1e-3):\n",
    "    optimizer = torch.optim.Adam(model.parameters(), lr=lr)\n",
    "    for epoch in range(num_epochs):\n",
    "        model.train()\n",
    "        positions = model(X)\n",
    "\n",
    "        hpwl_loss = compute_hpwl(positions, hyperedges)\n",
    "        density_loss = compute_density_loss(positions, areas, grid_size)\n",
    "\n",
    "        loss = hpwl_loss + 0.1 * density_loss  # Weight density as secondary\n",
    "\n",
    "        optimizer.zero_grad()\n",
    "        loss.backward()\n",
    "        optimizer.step()\n",
    "\n",
    "        if epoch % 10 == 0:\n",
    "            print(f\"Epoch {epoch}: HPWL={hpwl_loss.item():.2f}, Density={density_loss.item():.4f}\")\n",
    "\n",
    "# Setup and run\n",
    "in_dim = X.shape[1]\n",
    "hidden_dim = 64\n",
    "model = HyperGNN(in_dim, hidden_dim)\n",
    "\n",
    "areas = torch.tensor([f[-1] for f in X], dtype=torch.float)\n",
    "grid_size = 1000 * 1000  # Example total area\n",
    "\n",
    "train(model, X, hyperedges, areas, grid_size)"
   ]
  }
 ],
 "metadata": {
  "kernelspec": {
   "display_name": "Python 3 (ipykernel)",
   "language": "python",
   "name": "python3"
  },
  "language_info": {
   "codemirror_mode": {
    "name": "ipython",
    "version": 3
   },
   "file_extension": ".py",
   "mimetype": "text/x-python",
   "name": "python",
   "nbconvert_exporter": "python",
   "pygments_lexer": "ipython3",
   "version": "3.12.9"
  }
 },
 "nbformat": 4,
 "nbformat_minor": 5
}
