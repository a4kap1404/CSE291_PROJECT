{
  "cells": [
    {
      "cell_type": "code",
      "execution_count": null,
      "metadata": {
        "id": "CkEUOMzUmZRU"
      },
      "outputs": [],
      "source": [
        "import ast\n"
      ]
    },
    {
      "cell_type": "code",
      "execution_count": null,
      "metadata": {
        "id": "kT9NJP27sOoy",
        "colab": {
          "base_uri": "https://localhost:8080/",
          "height": 219
        },
        "outputId": "09781028-202d-4499-c57b-9aa3532424bf"
      },
      "outputs": [
        {
          "output_type": "error",
          "ename": "FileNotFoundError",
          "evalue": "[Errno 2] No such file or directory: 'nets.txt'",
          "traceback": [
            "\u001b[0;31m---------------------------------------------------------------------------\u001b[0m",
            "\u001b[0;31mFileNotFoundError\u001b[0m                         Traceback (most recent call last)",
            "\u001b[0;32m<ipython-input-3-872d75e80521>\u001b[0m in \u001b[0;36m<cell line: 0>\u001b[0;34m()\u001b[0m\n\u001b[1;32m      1\u001b[0m \u001b[0mnet_features\u001b[0m \u001b[0;34m=\u001b[0m \u001b[0;34m[\u001b[0m\u001b[0;34m]\u001b[0m\u001b[0;34m\u001b[0m\u001b[0;34m\u001b[0m\u001b[0m\n\u001b[0;32m----> 2\u001b[0;31m \u001b[0;32mwith\u001b[0m \u001b[0mopen\u001b[0m\u001b[0;34m(\u001b[0m\u001b[0;34m\"nets.txt\"\u001b[0m\u001b[0;34m,\u001b[0m \u001b[0;34m\"r\"\u001b[0m\u001b[0;34m)\u001b[0m \u001b[0;32mas\u001b[0m \u001b[0mf\u001b[0m\u001b[0;34m:\u001b[0m\u001b[0;34m\u001b[0m\u001b[0;34m\u001b[0m\u001b[0m\n\u001b[0m\u001b[1;32m      3\u001b[0m     \u001b[0;32mfor\u001b[0m \u001b[0mline\u001b[0m \u001b[0;32min\u001b[0m \u001b[0mf\u001b[0m\u001b[0;34m:\u001b[0m\u001b[0;34m\u001b[0m\u001b[0;34m\u001b[0m\u001b[0m\n\u001b[1;32m      4\u001b[0m         \u001b[0mnet\u001b[0m \u001b[0;34m=\u001b[0m \u001b[0mast\u001b[0m\u001b[0;34m.\u001b[0m\u001b[0mliteral_eval\u001b[0m\u001b[0;34m(\u001b[0m\u001b[0mline\u001b[0m\u001b[0;34m.\u001b[0m\u001b[0mstrip\u001b[0m\u001b[0;34m(\u001b[0m\u001b[0;34m)\u001b[0m\u001b[0;34m)\u001b[0m  \u001b[0;31m# safely parse dictionary from string\u001b[0m\u001b[0;34m\u001b[0m\u001b[0;34m\u001b[0m\u001b[0m\n\u001b[1;32m      5\u001b[0m         \u001b[0mnet_features\u001b[0m\u001b[0;34m.\u001b[0m\u001b[0mappend\u001b[0m\u001b[0;34m(\u001b[0m\u001b[0mnet\u001b[0m\u001b[0;34m)\u001b[0m\u001b[0;34m\u001b[0m\u001b[0;34m\u001b[0m\u001b[0m\n",
            "\u001b[0;31mFileNotFoundError\u001b[0m: [Errno 2] No such file or directory: 'nets.txt'"
          ]
        }
      ],
      "source": [
        "net_features = []\n",
        "with open(\"nets.txt\", \"r\") as f:\n",
        "    for line in f:\n",
        "        net = ast.literal_eval(line.strip())  # safely parse dictionary from string\n",
        "        net_features.append(net)"
      ]
    },
    {
      "cell_type": "code",
      "execution_count": null,
      "metadata": {
        "colab": {
          "base_uri": "https://localhost:8080/"
        },
        "id": "mXmjlxNArGsl",
        "outputId": "cc4ea945-ef11-4ca2-eed1-171ae71d8d85"
      },
      "outputs": [
        {
          "output_type": "stream",
          "name": "stdout",
          "text": [
            "Drive already mounted at /content/drive; to attempt to forcibly remount, call drive.mount(\"/content/drive\", force_remount=True).\n"
          ]
        }
      ],
      "source": [
        "from google.colab import drive\n",
        "drive.mount('/content/drive')"
      ]
    },
    {
      "cell_type": "code",
      "execution_count": null,
      "metadata": {
        "id": "PE9BGfKssVUd"
      },
      "outputs": [],
      "source": [
        "net_features = []\n",
        "with open('/content/drive/MyDrive/nets.txt', 'r') as f:\n",
        "    for line in f:\n",
        "        net = ast.literal_eval(line.strip())  # safely parse dictionary from string\n",
        "        net_features.append(net)"
      ]
    },
    {
      "cell_type": "code",
      "execution_count": null,
      "metadata": {
        "id": "ERpzjl_vrmRo"
      },
      "outputs": [],
      "source": [
        "node_features = {}\n",
        "for net in net_features:\n",
        "    driver = net['driver']\n",
        "    node_features[driver['id']] = [\n",
        "        driver['x'], driver['y'], int(driver['is_fixed']), driver['area']\n",
        "    ]\n",
        "    for sink in net['sinks']:\n",
        "        node_features[sink['id']] = [\n",
        "            sink['x'], sink['y'], int(sink['is_fixed']), sink['area']\n",
        "        ]\n"
      ]
    },
    {
      "cell_type": "code",
      "execution_count": null,
      "metadata": {
        "id": "mQ9AL1-ErmNF"
      },
      "outputs": [],
      "source": [
        "sorted_node_ids = sorted(node_features.keys())\n",
        "node_id_to_index = {nid: idx for idx, nid in enumerate(sorted_node_ids)}\n",
        "\n",
        "# Node feature matrix\n",
        "import torch\n",
        "X = torch.tensor([node_features[nid] for nid in sorted_node_ids], dtype=torch.float)\n",
        "\n",
        "# Create hyperedges\n",
        "hyperedges = []\n",
        "for net in net_features:\n",
        "    node_ids = [net['driver']['id']] + [sink['id'] for sink in net['sinks']]\n",
        "    edge = [node_id_to_index[nid] for nid in node_ids]\n",
        "    hyperedges.append(edge)"
      ]
    },
    {
      "cell_type": "code",
      "execution_count": null,
      "metadata": {
        "id": "53CfTydMrl84"
      },
      "outputs": [],
      "source": [
        "import torch\n",
        "import torch.nn as nn\n",
        "import torch.nn.functional as F\n",
        "\n",
        "class HyperGNN(nn.Module):\n",
        "    def __init__(self, in_dim, hidden_dim):\n",
        "        super(HyperGNN, self).__init__()\n",
        "        self.fc1 = nn.Linear(in_dim, hidden_dim)\n",
        "        self.fc2 = nn.Linear(hidden_dim, 2)  # Output: (x, y) positions\n",
        "\n",
        "    def forward(self, x):\n",
        "        x = F.relu(self.fc1(x))\n",
        "        pos = self.fc2(x)\n",
        "        return pos  # Shape: [num_nodes, 2]"
      ]
    },
    {
      "cell_type": "code",
      "source": [
        "def smooth_hpwl(positions, hyperedges, alpha=10.0):\n",
        "    \"\"\"\n",
        "    Args:\n",
        "        positions: Tensor of shape (num_nodes, 2) with (x, y) positions\n",
        "        hyperedges: List of lists, each sublist is indices of nodes in that net\n",
        "        alpha: Smoothness parameter for log-sum-exp\n",
        "\n",
        "    Returns:\n",
        "        Total smooth HPWL over all nets\n",
        "    \"\"\"\n",
        "    total_hpwl = 0.0\n",
        "    for net in hyperedges:\n",
        "        pins = positions[net]  # Shape: (num_pins_in_net, 2)\n",
        "        x = pins[:, 0]\n",
        "        y = pins[:, 1]\n",
        "\n",
        "        max_x = (1.0 / alpha) * torch.logsumexp(alpha * x, dim=0)\n",
        "        min_x = -(1.0 / alpha) * torch.logsumexp(-alpha * x, dim=0)\n",
        "        max_y = (1.0 / alpha) * torch.logsumexp(alpha * y, dim=0)\n",
        "        min_y = -(1.0 / alpha) * torch.logsumexp(-alpha * y, dim=0)\n",
        "\n",
        "        hpwl = (max_x - min_x) + (max_y - min_y)\n",
        "        total_hpwl += hpwl\n",
        "\n",
        "    return total_hpwl\n",
        "\n",
        "\n",
        "\n"
      ],
      "metadata": {
        "id": "Tm1MRPg2bLqP"
      },
      "execution_count": null,
      "outputs": []
    },
    {
      "cell_type": "code",
      "execution_count": null,
      "metadata": {
        "id": "Th1otLuBs-ne"
      },
      "outputs": [],
      "source": [
        "\n",
        "def compute_hpwl(positions, hyperedges):\n",
        "    hpwl = 0.0\n",
        "    for edge in hyperedges:\n",
        "        x_coords = positions[edge, 0]\n",
        "        y_coords = positions[edge, 1]\n",
        "        hpwl += (x_coords.max() - x_coords.min()) + (y_coords.max() - y_coords.min())\n",
        "    return hpwl\n",
        "\n",
        "def compute_density_loss(positions, areas, grid_size):\n",
        "    total_area = areas.sum()\n",
        "    return total_area / grid_size\n"
      ]
    },
    {
      "cell_type": "code",
      "execution_count": null,
      "metadata": {
        "id": "LWbYIYaQtJgt"
      },
      "outputs": [],
      "source": [
        "def train(model, X, hyperedges, areas, grid_size, num_epochs=500, lr=0.05):\n",
        "    optimizer = torch.optim.Adam(model.parameters(), lr=lr)\n",
        "    for epoch in range(num_epochs):\n",
        "        model.train()\n",
        "        positions = model(X)\n",
        "\n",
        "        hpwl_loss = smooth_hpwl(positions, hyperedges)\n",
        "        density_loss = compute_density_loss(positions, areas, grid_size)\n",
        "\n",
        "        loss = hpwl_loss + 0.1 * density_loss  # Weight density as secondary\n",
        "\n",
        "        optimizer.zero_grad()\n",
        "        loss.backward()\n",
        "        optimizer.step()\n",
        "\n",
        "        if epoch % 10 == 0:\n",
        "            print(f\"Epoch {epoch}: HPWL={hpwl_loss.item():.2f}, Density={density_loss.item():.4f}\")"
      ]
    },
    {
      "cell_type": "code",
      "execution_count": null,
      "metadata": {
        "colab": {
          "base_uri": "https://localhost:8080/"
        },
        "id": "zxU3sYnwtxIu",
        "outputId": "af734965-57f6-48d5-be63-2f3ae40ad8cf"
      },
      "outputs": [
        {
          "output_type": "stream",
          "name": "stdout",
          "text": [
            "Epoch 0: HPWL=412501440.00, Density=2600.4163\n",
            "Epoch 10: HPWL=264272416.00, Density=2600.4163\n",
            "Epoch 20: HPWL=41239008.00, Density=2600.4163\n",
            "Epoch 30: HPWL=3341510.75, Density=2600.4163\n",
            "Epoch 40: HPWL=75265.17, Density=2600.4163\n",
            "Epoch 50: HPWL=36900.07, Density=2600.4163\n",
            "Epoch 60: HPWL=33487.84, Density=2600.4163\n",
            "Epoch 70: HPWL=19921.80, Density=2600.4163\n",
            "Epoch 80: HPWL=40710.61, Density=2600.4163\n",
            "Epoch 90: HPWL=44928.56, Density=2600.4163\n",
            "Epoch 100: HPWL=8849.26, Density=2600.4163\n",
            "Epoch 110: HPWL=41713.75, Density=2600.4163\n",
            "Epoch 120: HPWL=60301.87, Density=2600.4163\n",
            "Epoch 130: HPWL=59773.59, Density=2600.4163\n",
            "Epoch 140: HPWL=90848.37, Density=2600.4163\n",
            "Epoch 150: HPWL=46783.57, Density=2600.4163\n",
            "Epoch 160: HPWL=52499.32, Density=2600.4163\n",
            "Epoch 170: HPWL=44910.65, Density=2600.4163\n",
            "Epoch 180: HPWL=15058.61, Density=2600.4163\n",
            "Epoch 190: HPWL=36156.08, Density=2600.4163\n",
            "Epoch 200: HPWL=34081.33, Density=2600.4163\n",
            "Epoch 210: HPWL=31069.69, Density=2600.4163\n",
            "Epoch 220: HPWL=25233.89, Density=2600.4163\n",
            "Epoch 230: HPWL=32072.29, Density=2600.4163\n",
            "Epoch 240: HPWL=46433.80, Density=2600.4163\n",
            "Epoch 250: HPWL=21851.91, Density=2600.4163\n",
            "Epoch 260: HPWL=10380.58, Density=2600.4163\n",
            "Epoch 270: HPWL=3416.30, Density=2600.4163\n",
            "Epoch 280: HPWL=48608.96, Density=2600.4163\n",
            "Epoch 290: HPWL=1389.84, Density=2600.4163\n",
            "Epoch 300: HPWL=41314.25, Density=2600.4163\n",
            "Epoch 310: HPWL=13461.14, Density=2600.4163\n",
            "Epoch 320: HPWL=37639.69, Density=2600.4163\n",
            "Epoch 330: HPWL=29754.32, Density=2600.4163\n",
            "Epoch 340: HPWL=23677.10, Density=2600.4163\n",
            "Epoch 350: HPWL=16392.78, Density=2600.4163\n",
            "Epoch 360: HPWL=19457.68, Density=2600.4163\n",
            "Epoch 370: HPWL=15891.64, Density=2600.4163\n",
            "Epoch 380: HPWL=47280.10, Density=2600.4163\n",
            "Epoch 390: HPWL=28487.46, Density=2600.4163\n",
            "Epoch 400: HPWL=12804.20, Density=2600.4163\n",
            "Epoch 410: HPWL=10596.91, Density=2600.4163\n",
            "Epoch 420: HPWL=62353.91, Density=2600.4163\n",
            "Epoch 430: HPWL=19837.50, Density=2600.4163\n",
            "Epoch 440: HPWL=63643.18, Density=2600.4163\n",
            "Epoch 450: HPWL=35095.25, Density=2600.4163\n",
            "Epoch 460: HPWL=14726.68, Density=2600.4163\n",
            "Epoch 470: HPWL=24131.65, Density=2600.4163\n",
            "Epoch 480: HPWL=15430.58, Density=2600.4163\n",
            "Epoch 490: HPWL=11541.92, Density=2600.4163\n"
          ]
        }
      ],
      "source": [
        "# Setup and run\n",
        "in_dim = X.shape[1]\n",
        "hidden_dim = 64\n",
        "model = HyperGNN(in_dim, hidden_dim)\n",
        "\n",
        "areas = torch.tensor([f[-1] for f in X], dtype=torch.float)\n",
        "grid_size = 1000 * 1000  # Example total area\n",
        "\n",
        "train(model, X, hyperedges, areas, grid_size)"
      ]
    }
  ],
  "metadata": {
    "colab": {
      "provenance": []
    },
    "kernelspec": {
      "display_name": "Python 3",
      "name": "python3"
    },
    "language_info": {
      "name": "python"
    }
  },
  "nbformat": 4,
  "nbformat_minor": 0
}